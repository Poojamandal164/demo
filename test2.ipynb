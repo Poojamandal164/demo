{
    "cells": [
        {
            "metadata": {},
            "cell_type": "code",
            "source": "\nimport types\nimport pandas as pd\nfrom botocore.client import Config\nimport ibm_boto3\n\ndef __iter__(self): return 0\n\n# @hidden_cell\n# The following code accesses a file in your IBM Cloud Object Storage. It includes your credentials.\n# You might want to remove those credentials before you share the notebook.\nclient_85c4a1df425b4d898897457bf015af00 = ibm_boto3.client(service_name='s3',\n    ibm_api_key_id='mobb7zZ3G3aoEJHGj-B_fqMec1wUl0-K-tLEdZ91kJk_',\n    ibm_auth_endpoint=\"https://iam.cloud.ibm.com/oidc/token\",\n    config=Config(signature_version='oauth'),\n    endpoint_url='https://s3-api.us-geo.objectstorage.service.networklayer.com')\n\nbody = client_85c4a1df425b4d898897457bf015af00.get_object(Bucket='test-donotdelete-pr-9udqsq9xlxb9jt',Key='Absenteeism_data.csv')['Body']\n# add missing __iter__ method, so pandas accepts body as file-like object\nif not hasattr(body, \"__iter__\"): body.__iter__ = types.MethodType( __iter__, body )\n\ndf_data_1 = pd.read_csv(body)\ndf_data_1.head()\n",
            "execution_count": 1,
            "outputs": [
                {
                    "output_type": "execute_result",
                    "execution_count": 1,
                    "data": {
                        "text/plain": "   ID  Reason for Absence        Date  Transportation Expense  \\\n0  11                  26  07/07/2015                     289   \n1  36                   0  14/07/2015                     118   \n2   3                  23  15/07/2015                     179   \n3   7                   7  16/07/2015                     279   \n4  11                  23  23/07/2015                     289   \n\n   Distance to Work  Age  Daily Work Load Average  Body Mass Index  Education  \\\n0                36   33                  239.554               30          1   \n1                13   50                  239.554               31          1   \n2                51   38                  239.554               31          1   \n3                 5   39                  239.554               24          1   \n4                36   33                  239.554               30          1   \n\n   Children  Pets  Absenteeism Time in Hours  \n0         2     1                          4  \n1         1     0                          0  \n2         0     0                          2  \n3         2     0                          4  \n4         2     1                          2  ",
                        "text/html": "<div>\n<style scoped>\n    .dataframe tbody tr th:only-of-type {\n        vertical-align: middle;\n    }\n\n    .dataframe tbody tr th {\n        vertical-align: top;\n    }\n\n    .dataframe thead th {\n        text-align: right;\n    }\n</style>\n<table border=\"1\" class=\"dataframe\">\n  <thead>\n    <tr style=\"text-align: right;\">\n      <th></th>\n      <th>ID</th>\n      <th>Reason for Absence</th>\n      <th>Date</th>\n      <th>Transportation Expense</th>\n      <th>Distance to Work</th>\n      <th>Age</th>\n      <th>Daily Work Load Average</th>\n      <th>Body Mass Index</th>\n      <th>Education</th>\n      <th>Children</th>\n      <th>Pets</th>\n      <th>Absenteeism Time in Hours</th>\n    </tr>\n  </thead>\n  <tbody>\n    <tr>\n      <th>0</th>\n      <td>11</td>\n      <td>26</td>\n      <td>07/07/2015</td>\n      <td>289</td>\n      <td>36</td>\n      <td>33</td>\n      <td>239.554</td>\n      <td>30</td>\n      <td>1</td>\n      <td>2</td>\n      <td>1</td>\n      <td>4</td>\n    </tr>\n    <tr>\n      <th>1</th>\n      <td>36</td>\n      <td>0</td>\n      <td>14/07/2015</td>\n      <td>118</td>\n      <td>13</td>\n      <td>50</td>\n      <td>239.554</td>\n      <td>31</td>\n      <td>1</td>\n      <td>1</td>\n      <td>0</td>\n      <td>0</td>\n    </tr>\n    <tr>\n      <th>2</th>\n      <td>3</td>\n      <td>23</td>\n      <td>15/07/2015</td>\n      <td>179</td>\n      <td>51</td>\n      <td>38</td>\n      <td>239.554</td>\n      <td>31</td>\n      <td>1</td>\n      <td>0</td>\n      <td>0</td>\n      <td>2</td>\n    </tr>\n    <tr>\n      <th>3</th>\n      <td>7</td>\n      <td>7</td>\n      <td>16/07/2015</td>\n      <td>279</td>\n      <td>5</td>\n      <td>39</td>\n      <td>239.554</td>\n      <td>24</td>\n      <td>1</td>\n      <td>2</td>\n      <td>0</td>\n      <td>4</td>\n    </tr>\n    <tr>\n      <th>4</th>\n      <td>11</td>\n      <td>23</td>\n      <td>23/07/2015</td>\n      <td>289</td>\n      <td>36</td>\n      <td>33</td>\n      <td>239.554</td>\n      <td>30</td>\n      <td>1</td>\n      <td>2</td>\n      <td>1</td>\n      <td>2</td>\n    </tr>\n  </tbody>\n</table>\n</div>"
                    },
                    "metadata": {}
                }
            ]
        },
        {
            "metadata": {},
            "cell_type": "code",
            "source": "",
            "execution_count": null,
            "outputs": []
        }
    ],
    "metadata": {
        "kernelspec": {
            "name": "python3",
            "display_name": "Python 3.6",
            "language": "python"
        },
        "language_info": {
            "name": "python",
            "version": "3.6.9",
            "mimetype": "text/x-python",
            "codemirror_mode": {
                "name": "ipython",
                "version": 3
            },
            "pygments_lexer": "ipython3",
            "nbconvert_exporter": "python",
            "file_extension": ".py"
        }
    },
    "nbformat": 4,
    "nbformat_minor": 1
}